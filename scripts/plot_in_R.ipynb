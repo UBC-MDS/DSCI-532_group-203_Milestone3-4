{
 "cells": [
  {
   "cell_type": "markdown",
   "metadata": {},
   "source": [
    "### Sources  \n",
    "* https://medium.com/@traffordDataLab/lets-make-a-map-in-r-7bd1d9366098  \n",
    "* https://stackoverflow.com/questions/50859765/chloropleth-map-with-geojson-and-ggplot2  \n",
    "* https://www.r-graph-gallery.com/327-chloropleth-map-from-geojson-with-ggplot2.html  \n"
   ]
  },
  {
   "cell_type": "code",
   "execution_count": 11,
   "metadata": {},
   "outputs": [],
   "source": [
    "library(sf)\n",
    "library(ggplot2)\n",
    "library(dplyr)\n",
    "library(viridis)\n",
    "library(tidyr)\n",
    "library(gghighlight)\n",
    "library(plotly)\n",
    "library(tidyverse)"
   ]
  },
  {
   "cell_type": "code",
   "execution_count": 3,
   "metadata": {},
   "outputs": [],
   "source": [
    "# Load map data\n",
    "cp_map <- st_read(\"../data/central_park_geo.geojson\", quiet = TRUE)"
   ]
  },
  {
   "cell_type": "code",
   "execution_count": 4,
   "metadata": {},
   "outputs": [],
   "source": [
    "# Update values for different zones of CP West\n",
    "cp_map$location <- as.character(cp_map$location)\n",
    "cp_map$sitename <- as.character(cp_map$sitename)\n",
    "cp_map$sitename[cp_map$location == 'CPW, W 97 St, West Drive, W 100 St'] <- 'Central Park West (Zone 1)'\n",
    "cp_map$sitename[cp_map$location == 'CPW, 85 St Transverse, West Drive To 96 St'] <- 'Central Park West (Zone 2)'\n",
    "cp_map$sitename[cp_map$location == 'West Drive, CPW, 65 St Transverse'] <- 'Central Park West (Zone 3)'\n",
    "cp_map$sitename[cp_map$location == '66 St To 72 St, CPW To West Drive'] <- 'Central Park West (Zone 4)'\n",
    "\n",
    "# Add numbers for each zone to display on map \n",
    "cp_map$number <- seq(1:63)"
   ]
  },
  {
   "cell_type": "code",
   "execution_count": 5,
   "metadata": {},
   "outputs": [],
   "source": [
    "# Read in squirrel data\n",
    "squirrel_data <- read.csv('../data/squirrel_data.csv')"
   ]
  },
  {
   "cell_type": "code",
   "execution_count": 6,
   "metadata": {},
   "outputs": [],
   "source": [
    "# Filter data for counts about 5 squirrels\n",
    "gt_5_sq <- squirrel_data %>% select(sitename, Unique_Squirrel_ID) %>% filter(Unique_Squirrel_ID > 5) %>% pull(sitename)"
   ]
  },
  {
   "cell_type": "code",
   "execution_count": 7,
   "metadata": {},
   "outputs": [
    {
     "name": "stderr",
     "output_type": "stream",
     "text": [
      "Warning message in st_centroid.sf(.):\n",
      "“st_centroid assumes attributes are constant over geometries of x”Warning message in st_centroid.sfc(st_geometry(x), of_largest_polygon = of_largest_polygon):\n",
      "“st_centroid does not give correct centroids for longitude/latitude data”Warning message:\n",
      "“`as_data_frame()` is deprecated, use `as_tibble()` (but mind the new semantics).\n",
      "\u001b[90mThis warning is displayed once per session.\u001b[39m”"
     ]
    }
   ],
   "source": [
    "# Find center of each polygon to plot region number\n",
    "centroids_filtered <- cp_map %>%\n",
    "    filter((sitename %in% gt_5_sq)) %>%\n",
    "    st_centroid() %>% \n",
    "    bind_cols(as_data_frame(st_coordinates(.)))"
   ]
  },
  {
   "cell_type": "code",
   "execution_count": 8,
   "metadata": {},
   "outputs": [],
   "source": [
    "# Update positions of centroids on map\n",
    "centroids_filtered$X[centroids_filtered$number == 52] <- -73.9581129527627\n",
    "centroids_filtered$Y[centroids_filtered$number == 52] <- 40.7998257114188\n",
    "centroids_filtered$X[centroids_filtered$number == 23] <- -73.973088868377\n",
    "centroids_filtered$Y[centroids_filtered$number == 23] <- 40.7787970822199\n",
    "centroids_filtered$X[centroids_filtered$number == 62] <- -73.9643990164278\n",
    "centroids_filtered$X[centroids_filtered$number == 26] <- -73.9664505849341\n",
    "centroids_filtered$X[centroids_filtered$number == 63] <- -73.9512081624995\n",
    "centroids_filtered$Y[centroids_filtered$number == 51] <- 40.7698840126662\n",
    "centroids_filtered$X[centroids_filtered$number == 53] <- -73.9690122680823"
   ]
  },
  {
   "cell_type": "code",
   "execution_count": 9,
   "metadata": {},
   "outputs": [
    {
     "name": "stderr",
     "output_type": "stream",
     "text": [
      "Warning message:\n",
      "“Column `sitename` joining character vector and factor, coercing into character vector”"
     ]
    }
   ],
   "source": [
    "#Join map boundaries to squirrel data\n",
    "data_map <- left_join(cp_map %>% filter(sitename %in% gt_5_sq), squirrel_data, by = 'sitename')"
   ]
  },
  {
   "cell_type": "code",
   "execution_count": 10,
   "metadata": {},
   "outputs": [],
   "source": [
    "# Change certain colnames\n",
    "colnames(data_map) <- c('propname',\n",
    "'us_congres',\n",
    "'zipcode',\n",
    "'acres',\n",
    "'location',\n",
    "'gispropnum',\n",
    "'retired',\n",
    "'subcategor',\n",
    "'communityb',\n",
    "'department',\n",
    "'precinct',\n",
    "'retireddat',\n",
    "'omppropid',\n",
    "'nys_assemb',\n",
    "'sitename',\n",
    "'nys_senate',\n",
    "'councildis',\n",
    "'borough',\n",
    "'descriptio',\n",
    "'number',\n",
    "'X',\n",
    "'Unique_Squirrel_ID',\n",
    "'Climbing',\n",
    "'Approaching_humans',\n",
    "'Vocalizing',\n",
    "'Running_or_chasing',\n",
    "'Eating_or_foraging',\n",
    "'Count_diff',\n",
    "'geometry')"
   ]
  },
  {
   "cell_type": "code",
   "execution_count": null,
   "metadata": {},
   "outputs": [],
   "source": [
    "#' Plots a choropleth of central park filled with color\n",
    "#' according to count of squirrels. \n",
    "#'\n",
    "#' @param highlight (optional) a character vector of sitenames to highlight\n",
    "#'\n",
    "#' @return ggplot chart\n",
    "#'\n",
    "#' @examples\n",
    "#' plot_choropleth(c('Ross Pinetum', 'The Ramble'))\n",
    "plot_choropleth <- function(highlight = vector()) {\n",
    "    full_map <- ggplot(data_map) + \n",
    "        geom_sf(aes(fill = Unique_Squirrel_ID), color = 'lightgrey') + \n",
    "        geom_text(aes(X, Y, label = number), \n",
    "                  data = centroids_filtered, \n",
    "                  size = 3, \n",
    "                  color = 'black') +        \n",
    "        scale_fill_gradient(low = 'white', high = 'darkgreen', \n",
    "                            limits = c(0,max(squirrel_data$Unique_Squirrel_ID)),\n",
    "                            name = 'Count') +\n",
    "        labs(title = 'Central Park Squirrel Distribution', x = '', y = '') +\n",
    "        theme_minimal() +\n",
    "        theme(legend.position = c(0.8, 0.2), \n",
    "        plot.title = element_text(hjust = 0.5), \n",
    "        axis.text.x = element_text(angle = 90, hjust = 1))\n",
    "    if (length(highlight) == 0) {\n",
    "        ggplotly(full_map)\n",
    "    } else {\n",
    "        m_h <- full_map + \n",
    "        gghighlight(sitename %in% highlight, \n",
    "                    label_key = Unique_Squirrel_ID)\n",
    "        ggplotly(m_h)\n",
    "    }\n",
    "}"
   ]
  },
  {
   "cell_type": "code",
   "execution_count": null,
   "metadata": {},
   "outputs": [],
   "source": [
    "#' Plots a bar chart of squirrel count by park region\n",
    "#'\n",
    "#' @param highlight (optional) a character vector of sitenames to highlight\n",
    "#'\n",
    "#' @return ggplot chart\n",
    "#'\n",
    "#' @examples\n",
    "#' plot_counts_bar(c('Ross Pinetum', 'The Ramble'))\n",
    "plot_counts_bar <- function(highlight = vector()) {\n",
    "    counts_full <- ggplot(data_map) + \n",
    "            geom_bar(aes(x = reorder(sitename, Unique_Squirrel_ID), \n",
    "                         y = Unique_Squirrel_ID, \n",
    "                         fill = Unique_Squirrel_ID), \n",
    "                     stat = 'identity') + \n",
    "\n",
    "            coord_flip() +\n",
    "            scale_fill_gradient(low = 'white', \n",
    "                                high = 'darkgreen', \n",
    "                                limits = c(0,max(squirrel_data$Unique_Squirrel_ID)),\n",
    "                                name = 'Count') +\n",
    "            labs(title = 'Squirrel Distribution by Park Region', y = 'Squirrel Count', x = '') +\n",
    "            theme_minimal() +\n",
    "            theme(panel.grid.major.y = element_blank(), legend.position = c(0.8, 0.2), plot.title = element_text(hjust = 0.5))\n",
    "    if (length(highlight) == 0) {\n",
    "        ggplotly(counts_full)\n",
    "        } else {\n",
    "            c_h <- counts_full +\n",
    "                 gghighlight(sitename %in% highlight, \n",
    "                             label_key = Unique_Squirrel_ID)\n",
    "            ggplotly(c_h)\n",
    "    }\n",
    "}"
   ]
  },
  {
   "cell_type": "code",
   "execution_count": null,
   "metadata": {},
   "outputs": [],
   "source": [
    "# Use a function make_graph() to create the graph\n",
    "\n",
    "#' Plots a bar chart of change in squirrel count from AM to PM\n",
    "#'    by park region\n",
    "#'\n",
    "#' @param highlight (optional) a character vector of sitenames to highlight\n",
    "#'\n",
    "#' @return ggplot chart\n",
    "#'\n",
    "#' @examples\n",
    "#' plot_diff_bar(c('Ross Pinetum', 'The Ramble'))\n",
    "plot_diff_bar <- function(highlight = list()) {\n",
    "    diff_bar <- ggplot(data_map,\n",
    "               aes(x = reorder(sitename, -Count_diff), \n",
    "                   y = -Count_diff,\n",
    "                   fill = Count_diff > 0)) +\n",
    "        geom_bar(stat = \"identity\")  +\n",
    "        labs(title = 'Squirrel Abundance: Morning vs. Afternoon', \n",
    "             y = 'Difference in count', \n",
    "             x = '') +\n",
    "        scale_y_continuous(breaks=seq(-20,50,10)) +\n",
    "        coord_flip() +\n",
    "        theme_minimal() +\n",
    "        theme(panel.grid.major.y = element_blank(), \n",
    "              legend.position = c(0.8, 0.1), \n",
    "              plot.title = element_text(hjust = 0.5)) +\n",
    "        scale_fill_discrete(name = NULL, \n",
    "                            labels = c(\"Higher count in PM\", \n",
    "                            \"Higher count in AM\"))\n",
    "    if (length(highlight) == 0){\n",
    "      ggplotly(diff_bar)\n",
    "    } else {\n",
    "        db_h <- diff_bar + gghighlight(sitename %in% highlight, \n",
    "            label_key = Unique_Squirrel_ID)\n",
    "        ggplotly(db_h)\n",
    "    }\n",
    "\n",
    "}"
   ]
  },
  {
   "cell_type": "code",
   "execution_count": null,
   "metadata": {},
   "outputs": [],
   "source": [
    "#' Plots a bar chart of squirrel behavior by park region\n",
    "#'\n",
    "#' @param highlight (default = empty) a character vector of sitenames to highlight\n",
    "#' @param behavior (default = Running_or_chasing) column of behavior to plot with options\n",
    "#'       Running_or_chasing, Eating_or_foraging, Vocalizing, Approaching_humans, Climbing\n",
    "#'\n",
    "#' @return ggplot chart\n",
    "#'\n",
    "#' @examples\n",
    "#' plot_behaviors_bar(c('Ross Pinetum', 'The Ramble'))\n",
    "plot_behaviors_bar <- function(behavior = 'Running_or_chasing', highlight = vector()) {\n",
    "    b_bar <- ggplot(data_map) + \n",
    "        geom_bar(aes(reorder(sitename, !!sym(behavior)), !!sym(behavior)),\n",
    "                     stat = 'identity') + \n",
    "        coord_flip() +\n",
    "        labs(title = paste('Count of Squirrels',\n",
    "                           str_replace_all(behavior,'_',' '),\n",
    "                           ' by Park Region'), \n",
    "             y = 'Squirrel Count', x = '') +\n",
    "        theme_minimal() +\n",
    "        theme(panel.grid.major.y = element_blank(), \n",
    "              plot.title = element_text(hjust = 0.5))\n",
    "    if (length(highlight) == 0) {\n",
    "        ggplotly(b_bar)\n",
    "    } else {\n",
    "        b_h <- b_bar + gghighlight(sitename %in% highlight, \n",
    "            label_key = Unique_Squirrel_ID)\n",
    "        ggplotly(b_h)\n",
    "    }\n",
    "}"
   ]
  }
 ],
 "metadata": {
  "kernelspec": {
   "display_name": "R",
   "language": "R",
   "name": "ir"
  },
  "language_info": {
   "codemirror_mode": "r",
   "file_extension": ".r",
   "mimetype": "text/x-r-source",
   "name": "R",
   "pygments_lexer": "r",
   "version": "3.6.1"
  }
 },
 "nbformat": 4,
 "nbformat_minor": 4
}
