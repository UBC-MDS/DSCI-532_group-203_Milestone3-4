{
 "cells": [
  {
   "cell_type": "markdown",
   "metadata": {},
   "source": [
    "### Sources  \n",
    "* https://medium.com/@traffordDataLab/lets-make-a-map-in-r-7bd1d9366098  \n",
    "* https://stackoverflow.com/questions/50859765/chloropleth-map-with-geojson-and-ggplot2  \n",
    "* https://www.r-graph-gallery.com/327-chloropleth-map-from-geojson-with-ggplot2.html  \n"
   ]
  },
  {
   "cell_type": "code",
   "execution_count": 1,
   "metadata": {},
   "outputs": [
    {
     "name": "stderr",
     "output_type": "stream",
     "text": [
      "Linking to GEOS 3.7.1, GDAL 2.4.2, PROJ 5.2.0\n",
      "\n",
      "Attaching package: ‘dplyr’\n",
      "\n",
      "The following objects are masked from ‘package:stats’:\n",
      "\n",
      "    filter, lag\n",
      "\n",
      "The following objects are masked from ‘package:base’:\n",
      "\n",
      "    intersect, setdiff, setequal, union\n",
      "\n",
      "Loading required package: viridisLite\n",
      "\n",
      "Attaching package: ‘plotly’\n",
      "\n",
      "The following object is masked from ‘package:ggplot2’:\n",
      "\n",
      "    last_plot\n",
      "\n",
      "The following object is masked from ‘package:stats’:\n",
      "\n",
      "    filter\n",
      "\n",
      "The following object is masked from ‘package:graphics’:\n",
      "\n",
      "    layout\n",
      "\n",
      "── \u001b[1mAttaching packages\u001b[22m ─────────────────────────────────────── tidyverse 1.2.1 ──\n",
      "\u001b[32m✔\u001b[39m \u001b[34mtibble \u001b[39m 2.1.3     \u001b[32m✔\u001b[39m \u001b[34mpurrr  \u001b[39m 0.3.3\n",
      "\u001b[32m✔\u001b[39m \u001b[34mreadr  \u001b[39m 1.3.1     \u001b[32m✔\u001b[39m \u001b[34mstringr\u001b[39m 1.4.0\n",
      "\u001b[32m✔\u001b[39m \u001b[34mtibble \u001b[39m 2.1.3     \u001b[32m✔\u001b[39m \u001b[34mforcats\u001b[39m 0.4.0\n",
      "── \u001b[1mConflicts\u001b[22m ────────────────────────────────────────── tidyverse_conflicts() ──\n",
      "\u001b[31m✖\u001b[39m \u001b[34mplotly\u001b[39m::\u001b[32mfilter()\u001b[39m masks \u001b[34mdplyr\u001b[39m::filter(), \u001b[34mstats\u001b[39m::filter()\n",
      "\u001b[31m✖\u001b[39m \u001b[34mdplyr\u001b[39m::\u001b[32mlag()\u001b[39m     masks \u001b[34mstats\u001b[39m::lag()\n"
     ]
    }
   ],
   "source": [
    "library(sf)\n",
    "library(ggplot2)\n",
    "library(dplyr)\n",
    "library(viridis)\n",
    "library(tidyr)\n",
    "library(gghighlight)\n",
    "library(plotly)\n",
    "library(tidyverse)"
   ]
  },
  {
   "cell_type": "code",
   "execution_count": 2,
   "metadata": {},
   "outputs": [],
   "source": [
    "# Load map data\n",
    "cp_map <- st_read(\"../data/central_park_geo.geojson\", quiet = TRUE)"
   ]
  },
  {
   "cell_type": "code",
   "execution_count": 3,
   "metadata": {},
   "outputs": [],
   "source": [
    "# Update values for different zones of CP West\n",
    "cp_map$location <- as.character(cp_map$location)\n",
    "cp_map$sitename <- as.character(cp_map$sitename)\n",
    "cp_map$sitename[cp_map$location == 'CPW, W 97 St, West Drive, W 100 St'] <- 'Central Park West (Zone 1)'\n",
    "cp_map$sitename[cp_map$location == 'CPW, 85 St Transverse, West Drive To 96 St'] <- 'Central Park West (Zone 2)'\n",
    "cp_map$sitename[cp_map$location == 'West Drive, CPW, 65 St Transverse'] <- 'Central Park West (Zone 3)'\n",
    "cp_map$sitename[cp_map$location == '66 St To 72 St, CPW To West Drive'] <- 'Central Park West (Zone 4)'\n",
    "\n",
    "# Add numbers for each zone to display on map \n"
   ]
  },
  {
   "cell_type": "code",
   "execution_count": 4,
   "metadata": {},
   "outputs": [],
   "source": [
    "# Read in squirrel data\n",
    "squirrel_data <- read.csv('../data/squirrel_data.csv')"
   ]
  },
  {
   "cell_type": "code",
   "execution_count": 5,
   "metadata": {},
   "outputs": [],
   "source": [
    "# Filter data for counts about 5 squirrels\n",
    "gt_5_sq <- squirrel_data %>% select(sitename, Unique_Squirrel_ID) %>% filter(Unique_Squirrel_ID > 5) %>% pull(sitename)"
   ]
  },
  {
   "cell_type": "code",
   "execution_count": 81,
   "metadata": {},
   "outputs": [
    {
     "name": "stderr",
     "output_type": "stream",
     "text": [
      "Warning message in st_centroid.sf(.):\n",
      "“st_centroid assumes attributes are constant over geometries of x”Warning message in st_centroid.sfc(st_geometry(x), of_largest_polygon = of_largest_polygon):\n",
      "“st_centroid does not give correct centroids for longitude/latitude data”"
     ]
    }
   ],
   "source": [
    "# Find center of each polygon to plot region number\n",
    "centroids_filtered <- cp_map %>%\n",
    "    filter((sitename %in% gt_5_sq)) %>%\n",
    "    st_centroid() %>% \n",
    "    bind_cols(as_data_frame(st_coordinates(.))) %>%\n",
    "    # Add column for number to plot on choropleth\n",
    "    mutate(number = seq(1:40))"
   ]
  },
  {
   "cell_type": "code",
   "execution_count": 82,
   "metadata": {},
   "outputs": [
    {
     "name": "stderr",
     "output_type": "stream",
     "text": [
      "Warning message:\n",
      "“Column `sitename` joining character vector and factor, coercing into character vector”"
     ]
    }
   ],
   "source": [
    "#Join map boundaries to squirrel data\n",
    "data_map <- left_join(cp_map %>% filter(sitename %in% gt_5_sq), squirrel_data, by = 'sitename')"
   ]
  },
  {
   "cell_type": "code",
   "execution_count": 83,
   "metadata": {},
   "outputs": [],
   "source": [
    "# Add column with umber that corresponds to number in centroids_filtered\n",
    "data_map$number <- seq(1:nrow(data_map))"
   ]
  },
  {
   "cell_type": "code",
   "execution_count": 86,
   "metadata": {},
   "outputs": [],
   "source": [
    "# Change colname for behaviors\n",
    "colnames(data_map) <- c('propname',\n",
    "'us_congres',\n",
    "'zipcode',\n",
    "'acres',\n",
    "'location',\n",
    "'gispropnum',\n",
    "'retired',\n",
    "'subcategor',\n",
    "'communityb',\n",
    "'department',\n",
    "'precinct',\n",
    "'retireddat',\n",
    "'omppropid',\n",
    "'nys_assemb',\n",
    "'sitename',\n",
    "'nys_senate',\n",
    "'councildis',\n",
    "'borough',\n",
    "'descriptio',\n",
    "'X',\n",
    "'Unique_Squirrel_ID',\n",
    "'Climbing',\n",
    "'Approaching_humans',\n",
    "'Vocalizing',\n",
    "'Running_or_chasing',\n",
    "'Eating_or_foraging',\n",
    "'Count_diff',\n",
    "'geometry',\n",
    "'number')"
   ]
  },
  {
   "cell_type": "code",
   "execution_count": 90,
   "metadata": {},
   "outputs": [],
   "source": [
    "# Add column to plot color difference\n",
    "data_map <- data_map %>% \n",
    "    mutate(am_pm = case_when(Count_diff < 0 ~ \"Higher count in PM\", \n",
    "                            TRUE ~ \"Higher count in AM\"))"
   ]
  },
  {
   "cell_type": "code",
   "execution_count": 129,
   "metadata": {},
   "outputs": [],
   "source": [
    "# Font size variables for below plots\n",
    "ys = 14\n",
    "xs = 14\n",
    "ts = 24"
   ]
  },
  {
   "cell_type": "code",
   "execution_count": null,
   "metadata": {},
   "outputs": [],
   "source": [
    "#' Plots a choropleth of central park filled with color\n",
    "#' according to count of squirrels. \n",
    "#'\n",
    "#' @param highlight (optional) a character vector of sitenames to highlight\n",
    "#'\n",
    "#' @return ggplot chart\n",
    "#'\n",
    "#' @examples\n",
    "#' plot_choropleth(c('Ross Pinetum', 'The Ramble'))\n",
    "plot_choropleth <- function(highlight = vector()) {\n",
    "    full_map <- ggplot(data_map) + \n",
    "        geom_sf(aes(fill = Unique_Squirrel_ID), color = 'lightgrey') + \n",
    "        geom_text(aes(X, Y, label = number), \n",
    "                  data = centroids_filtered, \n",
    "                  size = 3, \n",
    "                  color = 'black') +        \n",
    "        scale_fill_gradient(low = 'white', high = 'darkgreen', \n",
    "                            limits = c(0,max(squirrel_data$Unique_Squirrel_ID)),\n",
    "                            name = 'Count') +\n",
    "        labs(title = 'Central Park Squirrel Distribution', x = '', y = '') +\n",
    "        theme_minimal() +\n",
    "        theme(legend.position = c(0.8, 0.2), \n",
    "        plot.title = element_text(hjust = 0.5, size = ts), \n",
    "        axis.text.x = element_text(angle = 90, hjust = 1, size = xs),\n",
    "        axis.text.y = element_text(size = ys))\n",
    "    if (length(highlight) == 0) {\n",
    "        ggplotly(full_map)\n",
    "    } else {\n",
    "        m_h <- full_map + \n",
    "        gghighlight(sitename %in% highlight, \n",
    "                    label_key = Unique_Squirrel_ID)\n",
    "        ggplotly(m_h)\n",
    "    }\n",
    "}"
   ]
  },
  {
   "cell_type": "code",
   "execution_count": null,
   "metadata": {},
   "outputs": [],
   "source": [
    "#' Plots a bar chart of squirrel count by park region\n",
    "#'\n",
    "#' @param highlight (optional) a character vector of sitenames to highlight\n",
    "#'\n",
    "#' @return ggplot chart\n",
    "#'\n",
    "#' @examples\n",
    "#' plot_counts_bar(c('Ross Pinetum', 'The Ramble'))\n",
    "plot_counts_bar <- function(highlight = vector()) {\n",
    "    counts_full <- ggplot(data_map) + \n",
    "            geom_bar(aes(x = reorder(sitename, Unique_Squirrel_ID), \n",
    "                         y = Unique_Squirrel_ID, \n",
    "                         fill = Unique_Squirrel_ID, text = paste(\"Area name:\", sitename, '<br>',\"Squirrel count:\", Unique_Squirrel_ID)), \n",
    "                     stat = 'identity') + \n",
    "\n",
    "            coord_flip() +\n",
    "            scale_fill_gradient(low = 'white', \n",
    "                                high = 'darkgreen', \n",
    "                                limits = c(0,max(squirrel_data$Unique_Squirrel_ID)),\n",
    "                                name = 'Count') +\n",
    "            labs(title = 'Squirrel Distribution by Park Region', y = 'Squirrel Count', x = '', size = xs) +\n",
    "            theme_minimal() +\n",
    "            theme(panel.grid.major.y = element_blank(), \n",
    "            legend.position = c(0.8, 0.2), \n",
    "            plot.title = element_text(hjust = 0.5, size = ts), \n",
    "            axis.text = element_text(hjust = 1, size = xs),\n",
    "            axis.title = element_text(size = ys))\n",
    "    if (length(highlight) == 0) {\n",
    "        ggplotly(counts_full, tooltip=\"text\")\n",
    "        } else {\n",
    "            c_h <- counts_full +\n",
    "                 gghighlight(sitename %in% highlight, \n",
    "                             label_key = Unique_Squirrel_ID)\n",
    "            ggplotly(c_h,tooltip=c(\"x\",\"y\"))\n",
    "    }\n",
    "}"
   ]
  },
  {
   "cell_type": "code",
   "execution_count": null,
   "metadata": {},
   "outputs": [],
   "source": [
    "#' Plots a bar chart of squirrel behavior by park region\n",
    "#'\n",
    "#' @param highlight (default = empty) a character vector of sitenames to highlight\n",
    "#' @param behavior (default = Running_or_chasing) column of behavior to plot with options\n",
    "#'       Running_or_chasing, Eating_or_foraging, Vocalizing, Approaching_humans, Climbing\n",
    "#'\n",
    "#' @return ggplot chart\n",
    "#'\n",
    "#' @examples\n",
    "#' plot_behaviors_bar(c('Ross Pinetum', 'The Ramble'))\n",
    "plot_behaviors_bar <- function(behavior = 'Running_or_chasing', highlight = vector()) {\n",
    "    b_bar <- ggplot(data_map) + \n",
    "        geom_bar(aes(reorder(sitename, !!sym(behavior)), !!sym(behavior),text = paste(\"Area name:\", sitename, '<br>',\"Squirrel count:\", !!sym(behavior))),\n",
    "                     stat = 'identity') + \n",
    "        coord_flip() +\n",
    "        labs(title = paste('Count of Squirrels',\n",
    "                           str_replace_all(behavior,'_',' '),\n",
    "                           ' by Park Region'), \n",
    "             y = 'Squirrel Count', x = '') +\n",
    "        theme_minimal() +\n",
    "        theme(panel.grid.major.y = element_blank(), \n",
    "            plot.title = element_text(hjust = 0.5, size = ts), \n",
    "            axis.text = element_text(hjust = 1, size = xs),\n",
    "            axis.title = element_text(size = ys))\n",
    "    if (length(highlight) == 0) {\n",
    "        ggplotly(b_bar, tooltip=\"text\")\n",
    "    } else {\n",
    "        b_h <- b_bar + gghighlight(sitename %in% highlight, \n",
    "            label_key = Unique_Squirrel_ID)\n",
    "        ggplotly(b_h,tooltip=c(\"x\",\"y\"))\n",
    "    }\n",
    "}\n"
   ]
  },
  {
   "cell_type": "code",
   "execution_count": 128,
   "metadata": {},
   "outputs": [],
   "source": [
    "# Use a function make_graph() to create the graph\n",
    "\n",
    "#' Plots a bar chart of change in squirrel count from AM to PM\n",
    "#'    by park region\n",
    "#'\n",
    "#' @param highlight (optional) a character vector of sitenames to highlight\n",
    "#'\n",
    "#' @return ggplot chart\n",
    "#'\n",
    "#' @examples\n",
    "#' plot_diff_bar(c('Ross Pinetum', 'The Ramble'))\n",
    "plot_diff_bar <- function(highlight = list()) {\n",
    "    if (length(highlight) == 0){\n",
    "      diff_bar <- ggplot(data_map,\n",
    "               aes(x = reorder(sitename, -Count_diff), \n",
    "                   y = -Count_diff,\n",
    "                   fill = am_pm, text = paste(\"Area name:\", sitename, '<br>',\"Count difference:\", -Count_diff))) +\n",
    "        geom_bar(stat = \"identity\")  +\n",
    "        labs(title = 'Squirrel Abundance: Morning vs. Afternoon', \n",
    "             y = 'Difference in count', \n",
    "             x = '') +\n",
    "        scale_y_continuous(breaks=seq(-20,50,10)) +\n",
    "        coord_flip() +\n",
    "        theme_minimal() +\n",
    "        theme(panel.grid.major.y = element_blank(), \n",
    "              legend.position = c(0.8, 0.1), \n",
    "              plot.title = element_text(hjust = 0.5, size = ts), \n",
    "              axis.text = element_text(hjust = 1, size = xs),\n",
    "              axis.title = element_text(size = ys),\n",
    "              legend.title = element_blank()) \n",
    "\n",
    "      ggplotly(diff_bar, tooltip=\"text\")\n",
    "    } else {\n",
    "        diff_bar <- ggplot(data_map,\n",
    "               aes(x = reorder(sitename, -Count_diff), \n",
    "                   y = -Count_diff,\n",
    "                   fill = am_pm)) +\n",
    "        geom_bar(stat = \"identity\")  +\n",
    "        labs(title = 'Squirrel Abundance: Morning vs. Afternoon', \n",
    "             y = 'Difference in count', \n",
    "             x = '') +\n",
    "        scale_y_continuous(breaks=seq(-20,50,10)) +\n",
    "        coord_flip() +\n",
    "        theme_minimal() +\n",
    "        theme(panel.grid.major.y = element_blank(), \n",
    "              legend.position = c(0.8, 0.1), \n",
    "              plot.title = element_text(hjust = 0.5, size = ts), \n",
    "              axis.text = element_text(hjust = 1, size = xs),\n",
    "              axis.title = element_text(size = ys),\n",
    "              legend.title = element_blank()) \n",
    "\n",
    "        db_h <- diff_bar + gghighlight(sitename %in% highlight, \n",
    "            label_key = Unique_Squirrel_ID)\n",
    "        ggplotly(db_h, tooltip=c(\"x\",\"y\"))\n",
    "    }\n",
    "\n",
    "}"
   ]
  },
  {
   "cell_type": "code",
   "execution_count": null,
   "metadata": {},
   "outputs": [],
   "source": []
  }
 ],
 "metadata": {
  "kernelspec": {
   "display_name": "R",
   "language": "R",
   "name": "ir"
  },
  "language_info": {
   "codemirror_mode": "r",
   "file_extension": ".r",
   "mimetype": "text/x-r-source",
   "name": "R",
   "pygments_lexer": "r",
   "version": "3.6.1"
  }
 },
 "nbformat": 4,
 "nbformat_minor": 4
}
